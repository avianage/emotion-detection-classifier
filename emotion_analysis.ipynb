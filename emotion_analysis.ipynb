{
 "cells": [
  {
   "cell_type": "code",
   "execution_count": 1,
   "metadata": {},
   "outputs": [],
   "source": [
    "import numpy as np\n",
    "import pandas as pd\n",
    "from sklearn.model_selection import train_test_split\n",
    "from sklearn.feature_extraction.text import TfidfVectorizer\n",
    "from sklearn.naive_bayes import MultinomialNB\n",
    "from sklearn.metrics import accuracy_score, classification_report\n",
    "import spacy\n",
    "from spacy.lang.en.stop_words import STOP_WORDS\n"
   ]
  },
  {
   "cell_type": "code",
   "execution_count": 2,
   "metadata": {},
   "outputs": [
    {
     "name": "stdout",
     "output_type": "stream",
     "text": [
      "                                                text    label\n",
      "0      i just feel really helpless and heavy hearted     fear\n",
      "1  ive enjoyed being able to slouch about relax a...  sadness\n",
      "2  i gave up my internship with the dmrg and am f...     fear\n",
      "3                         i dont know i feel so lost  sadness\n",
      "4  i am a kindergarten teacher and i am thoroughl...     fear\n"
     ]
    }
   ],
   "source": [
    "dff = pd.read_csv('emotions.csv')\n",
    "\n",
    "dff[\"label\"].replace(0, \"sadness\", inplace=True)\n",
    "dff[\"label\"].replace(1, \"joy\", inplace=True)\n",
    "dff[\"label\"].replace(2, \"love\", inplace=True)\n",
    "dff[\"label\"].replace(3, \"anger\", inplace=True)\n",
    "dff[\"label\"].replace(4, \"fear\", inplace=True)\n",
    "dff[\"label\"].replace(5, \"surprise\", inplace=True)\n",
    "\n",
    "# Display first few rows\n",
    "print(dff.head())\n",
    "\n",
    "df =  dff[:5000]\n"
   ]
  },
  {
   "cell_type": "code",
   "execution_count": 3,
   "metadata": {},
   "outputs": [
    {
     "name": "stdout",
     "output_type": "stream",
     "text": [
      "Dataset Shape: (5000, 2)\n",
      "text     0\n",
      "label    0\n",
      "dtype: int64\n",
      "label\n",
      "joy         1704\n",
      "sadness     1434\n",
      "anger        696\n",
      "fear         596\n",
      "love         382\n",
      "surprise     188\n",
      "Name: count, dtype: int64\n",
      "<class 'pandas.core.frame.DataFrame'>\n",
      "RangeIndex: 5000 entries, 0 to 4999\n",
      "Data columns (total 2 columns):\n",
      " #   Column  Non-Null Count  Dtype \n",
      "---  ------  --------------  ----- \n",
      " 0   text    5000 non-null   object\n",
      " 1   label   5000 non-null   object\n",
      "dtypes: object(2)\n",
      "memory usage: 78.2+ KB\n",
      "None\n",
      "                                                     text label\n",
      "count                                                5000  5000\n",
      "unique                                               4999     6\n",
      "top     i feel like if i continue this i will turn int...   joy\n",
      "freq                                                    2  1704\n"
     ]
    }
   ],
   "source": [
    "# Check the size and shape of the dataset\n",
    "print(f\"Dataset Shape: {df.shape}\")\n",
    "\n",
    "# Check for missing values\n",
    "print(df.isnull().sum())\n",
    "\n",
    "# Print the distribution of the target variable (emotions)\n",
    "print(df['label'].value_counts())\n",
    "\n",
    "# Show data types and summary statistics\n",
    "print(df.info())\n",
    "print(df.describe())\n"
   ]
  },
  {
   "cell_type": "code",
   "execution_count": 4,
   "metadata": {},
   "outputs": [],
   "source": [
    "# Initialize the Spacy NLP model\n",
    "nlp = spacy.load('en_core_web_sm')\n"
   ]
  },
  {
   "cell_type": "code",
   "execution_count": 5,
   "metadata": {},
   "outputs": [],
   "source": [
    "# Preprocessing function to clean text\n",
    "def preprocess_text(text):\n",
    "    doc = nlp(text.lower())  # Convert to lowercase\n",
    "    tokens = [token.lemma_ for token in doc if token.text not in STOP_WORDS and token.is_alpha]  # Remove stopwords and keep only alphabetic tokens\n",
    "    return ' '.join(tokens)\n"
   ]
  },
  {
   "cell_type": "code",
   "execution_count": 6,
   "metadata": {},
   "outputs": [
    {
     "name": "stdout",
     "output_type": "stream",
     "text": [
      "0                          feel helpless heavy hearted\n",
      "1    ve enjoy able slouch relax unwind frankly need...\n",
      "2                 give internship dmrg feel distraught\n",
      "3                                   not know feel lost\n",
      "4    kindergarten teacher thoroughly weary job havi...\n",
      "Name: cleaned_text, dtype: object\n"
     ]
    },
    {
     "name": "stderr",
     "output_type": "stream",
     "text": [
      "C:\\Users\\shrav\\AppData\\Local\\Temp\\ipykernel_3364\\2958828863.py:2: SettingWithCopyWarning: \n",
      "A value is trying to be set on a copy of a slice from a DataFrame.\n",
      "Try using .loc[row_indexer,col_indexer] = value instead\n",
      "\n",
      "See the caveats in the documentation: https://pandas.pydata.org/pandas-docs/stable/user_guide/indexing.html#returning-a-view-versus-a-copy\n",
      "  df['cleaned_text'] = df['text'].apply(preprocess_text)\n"
     ]
    }
   ],
   "source": [
    "# Apply preprocessing to the text data\n",
    "df['cleaned_text'] = df['text'].apply(preprocess_text)\n",
    "\n",
    "# Display the cleaned text\n",
    "print(df['cleaned_text'].head())"
   ]
  },
  {
   "cell_type": "code",
   "execution_count": 7,
   "metadata": {},
   "outputs": [
    {
     "name": "stdout",
     "output_type": "stream",
     "text": [
      "Training data shape: (4000, 1000)\n",
      "Testing data shape: (1000, 1000)\n"
     ]
    }
   ],
   "source": [
    "# Initialize TF-IDF Vectorizer\n",
    "tfidf_vectorizer = TfidfVectorizer(max_features=1000)\n",
    "\n",
    "# Transform the cleaned text data into features\n",
    "X = tfidf_vectorizer.fit_transform(df['cleaned_text']).toarray()\n",
    "\n",
    "# Target labels (emotions)\n",
    "y = df['label']\n",
    "\n",
    "# Split dataset into training and testing sets\n",
    "X_train, X_test, y_train, y_test = train_test_split(X, y, test_size=0.2, random_state=42)\n",
    "\n",
    "# Print the shape of training and testing sets\n",
    "print(f\"Training data shape: {X_train.shape}\")\n",
    "print(f\"Testing data shape: {X_test.shape}\")\n"
   ]
  },
  {
   "cell_type": "code",
   "execution_count": 8,
   "metadata": {},
   "outputs": [],
   "source": [
    "# Initialize the Naive Bayes classifier\n",
    "nb_classifier = MultinomialNB()\n",
    "\n",
    "# Train the classifier\n",
    "nb_classifier.fit(X_train, y_train)\n",
    "\n",
    "# Predict emotions on the test set\n",
    "y_pred = nb_classifier.predict(X_test)\n"
   ]
  },
  {
   "cell_type": "code",
   "execution_count": 9,
   "metadata": {},
   "outputs": [
    {
     "name": "stdout",
     "output_type": "stream",
     "text": [
      "Accuracy: 70.20%\n",
      "              precision    recall  f1-score   support\n",
      "\n",
      "       anger       0.95      0.51      0.66       144\n",
      "        fear       0.87      0.50      0.64       117\n",
      "         joy       0.64      0.93      0.75       336\n",
      "        love       0.93      0.16      0.28        86\n",
      "     sadness       0.70      0.87      0.77       282\n",
      "    surprise       1.00      0.03      0.06        35\n",
      "\n",
      "    accuracy                           0.70      1000\n",
      "   macro avg       0.85      0.50      0.53      1000\n",
      "weighted avg       0.76      0.70      0.67      1000\n",
      "\n"
     ]
    }
   ],
   "source": [
    "# Calculate accuracy\n",
    "accuracy = accuracy_score(y_test, y_pred)\n",
    "print(f\"Accuracy: {accuracy * 100:.2f}%\")\n",
    "\n",
    "# Classification report (precision, recall, F1-score for each emotion)\n",
    "print(classification_report(y_test, y_pred))\n"
   ]
  },
  {
   "cell_type": "code",
   "execution_count": 14,
   "metadata": {},
   "outputs": [
    {
     "name": "stdout",
     "output_type": "stream",
     "text": [
      "Predicted Emotion: joy\n"
     ]
    }
   ],
   "source": [
    "# Example prediction\n",
    "new_text = [\"He seemed mesmerized\"]\n",
    "\n",
    "# Preprocess the new text\n",
    "new_text_processed = preprocess_text(new_text[0])\n",
    "\n",
    "# Transform the text using the trained TF-IDF Vectorizer\n",
    "new_text_features = tfidf_vectorizer.transform([new_text_processed])\n",
    "\n",
    "# Predict the emotion\n",
    "predicted_emotion = nb_classifier.predict(new_text_features)\n",
    "print(f\"Predicted Emotion: {predicted_emotion[0]}\")\n"
   ]
  }
 ],
 "metadata": {
  "kernelspec": {
   "display_name": "Python 3",
   "language": "python",
   "name": "python3"
  },
  "language_info": {
   "codemirror_mode": {
    "name": "ipython",
    "version": 3
   },
   "file_extension": ".py",
   "mimetype": "text/x-python",
   "name": "python",
   "nbconvert_exporter": "python",
   "pygments_lexer": "ipython3",
   "version": "3.10.2"
  }
 },
 "nbformat": 4,
 "nbformat_minor": 2
}
